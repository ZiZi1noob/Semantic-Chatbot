{
 "cells": [
  {
   "cell_type": "code",
   "execution_count": 2,
   "id": "42381119",
   "metadata": {},
   "outputs": [
    {
     "name": "stdout",
     "output_type": "stream",
     "text": [
      "I hate it\n",
      "[-1.]\n"
     ]
    }
   ],
   "source": [
    "import pickle\n",
    "import re\n",
    "import string\n",
    "\n",
    "#Load model and vectorizer\n",
    "with open('classifier', 'rb') as f:\n",
    "    cv_class, logreg = pickle.load(f)\n",
    "    \n",
    "#Ask for sentence input\n",
    "words=input()\n",
    "\n",
    "#Delete punctuations\n",
    "def Text_clean(text):\n",
    "    text=re.sub(r' \\n|\\n', ' ', text)\n",
    "    text = re.sub(r'http\\S+', '', text, flags=re.MULTILINE)\n",
    "    text = re.sub(r'@\\S+', '', text, flags=re.MULTILINE)\n",
    "    text = re.sub(r'#', '', text, flags=re.MULTILINE)\n",
    "    text = re.sub(r'，', '', text, flags=re.MULTILINE)\n",
    "    text = re.sub(r'！', '', text, flags=re.MULTILINE)\n",
    "    text = re.sub(r'？', '', text, flags=re.MULTILINE)\n",
    "    text = re.sub(r'。', '', text, flags=re.MULTILINE)\n",
    "    text = re.sub(r'“', '', text, flags=re.MULTILINE)\n",
    "    text = re.sub(r'”', '', text, flags=re.MULTILINE)\n",
    "    text = re.sub(r'、', '', text, flags=re.MULTILINE)\n",
    "    text=re.sub('[%s]' % re.escape(string.punctuation), ' ',text)\n",
    "    text = re.sub('\\w*\\d\\w*', '', text)\n",
    "    return text\n",
    "\n",
    "round=lambda x:Text_clean(x)\n",
    "words=Text_clean(words)\n",
    "\n",
    "#corpus\n",
    "corpus=[]\n",
    "corpus.append(words)\n",
    "#Vecoterization\n",
    "test_sentence=cv_class.transform(corpus)\n",
    "#predict\n",
    "predict = logreg.predict(test_sentence)\n",
    "\n",
    "\n",
    "print(predict)"
   ]
  }
 ],
 "metadata": {
  "kernelspec": {
   "display_name": "Python 3",
   "language": "python",
   "name": "python3"
  },
  "language_info": {
   "codemirror_mode": {
    "name": "ipython",
    "version": 3
   },
   "file_extension": ".py",
   "mimetype": "text/x-python",
   "name": "python",
   "nbconvert_exporter": "python",
   "pygments_lexer": "ipython3",
   "version": "3.8.8"
  }
 },
 "nbformat": 4,
 "nbformat_minor": 5
}
